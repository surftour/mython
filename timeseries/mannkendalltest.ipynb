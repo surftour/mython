{
 "cells": [
  {
   "cell_type": "code",
   "execution_count": 1,
   "metadata": {
    "collapsed": false
   },
   "outputs": [],
   "source": [
    "import sys\n",
    "sys.path.insert(0,\"/Library/Python/2.7/site-packages\")\n",
    "#sys.path\n",
    "\n",
    "import numpy as np\n",
    "import scipy as sp\n",
    "import pandas as pd\n",
    "#print np.__version__\n",
    "#print np.__file__\n",
    "\n",
    "import matplotlib as mpl\n",
    "import matplotlib.pyplot as plt\n",
    "import matplotlib.patches as ptch\n",
    "from matplotlib import rcParams\n",
    "#from matplotlib.dates import YearLocator, MonthLocator, DayLocator, DateFormatter\n",
    "import matplotlib.dates as mdates\n",
    "import matplotlib.collections as mplcoll\n",
    "import matplotlib.colors as mplcolor\n",
    "#print mpl.__version__\n",
    "#print mpl.__file__\n",
    "\n",
    "import json\n",
    "from operator import itemgetter\n",
    "%matplotlib inline\n",
    "\n",
    "import datetime as DT\n",
    "\n",
    "import MySQLdb"
   ]
  },
  {
   "cell_type": "markdown",
   "metadata": {},
   "source": [
    "##  Load Generic Functions"
   ]
  },
  {
   "cell_type": "code",
   "execution_count": 2,
   "metadata": {
    "collapsed": true
   },
   "outputs": [],
   "source": [
    "%run 'new_user_activation_funcs.ipynb'"
   ]
  },
  {
   "cell_type": "markdown",
   "metadata": {},
   "source": [
    "## Load Data"
   ]
  },
  {
   "cell_type": "code",
   "execution_count": 3,
   "metadata": {
    "collapsed": false
   },
   "outputs": [
    {
     "name": "stdout",
     "output_type": "stream",
     "text": [
      "grabbed new users from:  2016-01-01  to  2016-06-06\n",
      "2016-01-01 00:00:00\n",
      "158\n"
     ]
    }
   ],
   "source": [
    "\n",
    "#thisDF = grabDF_new_users_daily(\"2016-01-01\", \"2016-07-01\")\n",
    "thisDF = grabDF_new_users_daily(\"2016-01-01\", \"2016-06-06\")\n",
    "\n",
    "startday = thisDF.iloc[0].day\n",
    "print startday\n",
    "thislen = len(thisDF.index)\n",
    "print thislen\n",
    "#thisDF['newday'] = pd.date_range(start=startday,periods=thislen,freq='D')\n",
    "#thisDF.index = pd.date_range(start=startday,periods=thislen,freq='D')\n",
    "\n",
    "#thisDF.set_index('day')\n",
    "\n",
    "#\n",
    "# this was me trying to play with date stuff to fix below error ... but to no avail ....\n",
    "#\n",
    "#newDF = thisDF.set_index('day')\n",
    "#newDF = thisDF.set_index('newday')\n",
    "#newDF.index.inferred_freq = 'D'\n",
    "#newDF.index.freq = 'D'\n",
    "#print newDF.head()\n",
    "#print newDF.dtypes\n",
    "#print newDF.index\n",
    "#print newDF.index.freq"
   ]
  },
  {
   "cell_type": "code",
   "execution_count": 4,
   "metadata": {
    "collapsed": false
   },
   "outputs": [],
   "source": [
    "import numpy as np  \n",
    "from scipy.stats import norm, mstats\n",
    "\n",
    "def mk_test(x, alpha = 0.05):  \n",
    "    \"\"\"   \n",
    "    Input:\n",
    "        x:   a vector of data\n",
    "        alpha: significance level (0.05 default)\n",
    "\n",
    "    Output:\n",
    "        trend: tells the trend (increasing, decreasing or no trend)\n",
    "        h: True (if trend is present) or False (if trend is absence)\n",
    "        p: p value of the significance test\n",
    "        z: normalized test statistics \n",
    "\n",
    "    Examples\n",
    "    --------\n",
    "      >>> x = np.random.rand(100)\n",
    "      >>> trend,h,p,z = mk_test(x,0.05) \n",
    "    \"\"\"\n",
    "    n = len(x)\n",
    "    #print \"n=\", n\n",
    "\n",
    "    # calculate S \n",
    "    s = 0\n",
    "    for k in range(n-1):\n",
    "        for j in range(k+1,n):\n",
    "            s += np.sign(x[j] - x[k])\n",
    "            \n",
    "    # calculate the unique data\n",
    "    unique_x = np.unique(x)\n",
    "    g = len(unique_x)\n",
    "\n",
    "    # calculate the var(s)\n",
    "    if n == g: # there is no tie\n",
    "        var_s = (n*(n-1)*(2*n+5))/18\n",
    "    else: # there are some ties in data\n",
    "        tp = np.zeros(unique_x.shape)\n",
    "        for i in range(len(unique_x)):\n",
    "            tp[i] = sum(unique_x[i] == x)\n",
    "        var_s = (n*(n-1)*(2*n+5) + np.sum(tp*(tp-1)*(2*tp+5)))/18\n",
    "\n",
    "    #print \"s=\", s\n",
    "    if s>0:\n",
    "        z = (s - 1)/np.sqrt(var_s)\n",
    "    elif s == 0:\n",
    "        z = 0\n",
    "    elif s<0:\n",
    "        z = (s + 1)/np.sqrt(var_s)\n",
    "\n",
    "    #print \"z=\", z\n",
    "    # calculate the p_value\n",
    "    p = 2*(1-norm.cdf(abs(z))) # two tail test\n",
    "    h = abs(z) > norm.ppf(1-alpha/2) \n",
    "\n",
    "    if (z<0) and h:\n",
    "        trend = 'decreasing'\n",
    "    elif (z>0) and h:\n",
    "        trend = 'increasing'\n",
    "    else:\n",
    "        trend = 'no trend'\n",
    "\n",
    "    return trend, h, p, z"
   ]
  },
  {
   "cell_type": "code",
   "execution_count": 5,
   "metadata": {
    "collapsed": false
   },
   "outputs": [
    {
     "name": "stdout",
     "output_type": "stream",
     "text": [
      "decreasing True\n",
      "-16.971596375 0.0\n"
     ]
    }
   ],
   "source": [
    "#trend.dropna(inplace=True)\n",
    "#cleantrend = trend[~np.isnan(trend)]\n",
    "#print trend\n",
    "#print cleantrend\n",
    "\n",
    "cleantrend = thisDF['ExpMA7']\n",
    "\n",
    "test_trend,h,p,z = mk_test(cleantrend, alpha=0.05)  \n",
    "print test_trend, h  \n",
    "print z, p  "
   ]
  },
  {
   "cell_type": "code",
   "execution_count": null,
   "metadata": {
    "collapsed": true
   },
   "outputs": [],
   "source": []
  }
 ],
 "metadata": {
  "kernelspec": {
   "display_name": "Python 2",
   "language": "python",
   "name": "python2"
  },
  "language_info": {
   "codemirror_mode": {
    "name": "ipython",
    "version": 2
   },
   "file_extension": ".py",
   "mimetype": "text/x-python",
   "name": "python",
   "nbconvert_exporter": "python",
   "pygments_lexer": "ipython2",
   "version": "2.7.5"
  }
 },
 "nbformat": 4,
 "nbformat_minor": 0
}
