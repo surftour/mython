{
 "cells": [
  {
   "cell_type": "code",
   "execution_count": 27,
   "metadata": {
    "collapsed": false
   },
   "outputs": [],
   "source": [
    "import sys\n",
    "sys.path.insert(0,\"/Library/Python/2.7/site-packages\")\n",
    "#sys.path\n",
    "\n",
    "import numpy as np\n",
    "import scipy as sp\n",
    "import pandas as pd\n",
    "#print np.__version__\n",
    "#print np.__file__\n",
    "\n",
    "import matplotlib as mpl\n",
    "import matplotlib.pyplot as plt\n",
    "import matplotlib.patches as ptch\n",
    "from matplotlib import rcParams\n",
    "#from matplotlib.dates import YearLocator, MonthLocator, DayLocator, DateFormatter\n",
    "import matplotlib.dates as mdates\n",
    "import matplotlib.collections as mplcoll\n",
    "import matplotlib.colors as mplcolor\n",
    "#print mpl.__version__\n",
    "#print mpl.__file__\n",
    "\n",
    "import json\n",
    "from operator import itemgetter\n",
    "%matplotlib inline\n",
    "\n",
    "import datetime as DT\n",
    "\n",
    "import MySQLdb"
   ]
  },
  {
   "cell_type": "markdown",
   "metadata": {},
   "source": [
    "*****\n",
    "\n",
    "# Dickey-Fuller Test for Stationarity\n",
    "\n",
    "Null Hypothesis: The time series is non-stationary, i.e., there is a unit root, $\\delta = 0$, present in an autoregressive model fit to the data.  The alternative hypothesis depends on the exact nature of the test, but in the simple implementation here it's stationarity, i.e., that the time series has a tendency to return to the mean, $\\delta < 0$."
   ]
  },
  {
   "cell_type": "code",
   "execution_count": 31,
   "metadata": {
    "collapsed": true
   },
   "outputs": [],
   "source": [
    "from statsmodels.tsa.stattools import adfuller\n",
    "def test_stationarity(timeseries):   \n",
    "    fig = plt.figure(figsize=(12.,8.))\n",
    "    fig.position = (0,0,1,1)\n",
    "    #ax = fig.add_axes([0.05, 0.05, 0.95, 0.95], frameon=True)\n",
    "\n",
    "    #Determing rolling statistics\n",
    "    rolmean = pd.rolling_mean(timeseries, window=12)\n",
    "    rolstd = pd.rolling_std(timeseries, window=12)\n",
    "\n",
    "    #Plot rolling statistics:\n",
    "    orig = plt.plot(timeseries, color='blue',label='Original')\n",
    "    mean = plt.plot(rolmean, color='red', label='Rolling Mean')\n",
    "    std = plt.plot(rolstd, color='black', label = 'Rolling Std')\n",
    "    \n",
    "    plt.legend(loc='best')\n",
    "    plt.title('Rolling Mean & Standard Deviation')\n",
    "    #plt.show(block=False)\n",
    "    plt.show()\n",
    "    \n",
    "    #Perform Dickey-Fuller test:\n",
    "    print 'Results of Dickey-Fuller Test:'\n",
    "    dftest = adfuller(timeseries, autolag='AIC')\n",
    "    dfoutput = pd.Series(dftest[0:4], index=['Test Statistic','p-value','#Lags Used','Number of Observations Used'])\n",
    "    for key,value in dftest[4].items():\n",
    "        dfoutput['Critical Value (%s)'%key] = value\n",
    "    print dfoutput\n",
    "    print '\\nConclusion:'\n",
    "    print '\\n==========='\n",
    "    if dftest[1] < 0.05:\n",
    "        print \"Low P-value, we can reject the null hypothesis.\"\n",
    "        print \"Series is STATIONARY (delta not equal to 0)\"\n",
    "    else:\n",
    "        print \"Cannot reject null hypothesis, the series is non-stationary,\"\n",
    "        print \"or at the very least, has a unit root (delta=0) and may have a trend ...\"\n",
    "    print '\\n\\n'\n"
   ]
  },
  {
   "cell_type": "markdown",
   "metadata": {},
   "source": [
    "# A Quick Test"
   ]
  },
  {
   "cell_type": "code",
   "execution_count": 3,
   "metadata": {
    "collapsed": false
   },
   "outputs": [],
   "source": [
    "do_test = False"
   ]
  },
  {
   "cell_type": "code",
   "execution_count": 5,
   "metadata": {
    "collapsed": false
   },
   "outputs": [],
   "source": [
    "if do_test:\n",
    "    #\n",
    "    #  define a quick time series ...\n",
    "    #\n",
    "\n",
    "    N = 200\n",
    "    time = np.arange(N)\n",
    "    #print time\n",
    "\n",
    "    #\n",
    "    #\n",
    "    y = 5000 \\\n",
    "        - 10.0 * time \\\n",
    "        + 175.0 * np.sin(2 * np.pi * time / 10) \\\n",
    "        + 125.0 * np.random.normal(0, size=time.shape)\n",
    "\n",
    "    #print y\n",
    "    #print type(y)\n",
    "\n",
    "    y = pd.Series(y)\n",
    "    #print y.shape\n",
    "\n",
    "    test_stationarity(y)"
   ]
  },
  {
   "cell_type": "code",
   "execution_count": 6,
   "metadata": {
    "collapsed": false
   },
   "outputs": [],
   "source": [
    "if do_test:\n",
    "    \n",
    "    #  define a quick time series ...\n",
    "    #\n",
    "\n",
    "    N = 200\n",
    "    time = np.arange(N)\n",
    "    #print time\n",
    "\n",
    "    #\n",
    "    #\n",
    "    y = 5000 \\\n",
    "        + 175.0 * np.sin(2 * np.pi * time / 10) \\\n",
    "        + 125.0 * np.random.normal(0, size=time.shape)\n",
    "\n",
    "    #print y\n",
    "    #print type(y)\n",
    "\n",
    "    y = pd.Series(y)\n",
    "    #print y.shape\n",
    "\n",
    "    #test_stationarity(y)\n"
   ]
  }
 ],
 "metadata": {
  "kernelspec": {
   "display_name": "Python 2",
   "language": "python",
   "name": "python2"
  },
  "language_info": {
   "codemirror_mode": {
    "name": "ipython",
    "version": 2
   },
   "file_extension": ".py",
   "mimetype": "text/x-python",
   "name": "python",
   "nbconvert_exporter": "python",
   "pygments_lexer": "ipython2",
   "version": "2.7.5"
  }
 },
 "nbformat": 4,
 "nbformat_minor": 0
}
