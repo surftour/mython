{
 "cells": [
  {
   "cell_type": "code",
   "execution_count": 1,
   "metadata": {
    "collapsed": false
   },
   "outputs": [],
   "source": [
    "import sys\n",
    "# nice style article  - which explicitly says I shouldn't do this\n",
    "#      https://github.com/amontalenti/elements-of-python-style\n",
    "# (so, at some point, but not now - sorry, I'll fix this)\n",
    "sys.path.insert(0,\"/Library/Python/2.7/site-packages\")\n",
    "#print sys.path\n",
    "\n",
    "import time\n",
    "import datetime\n",
    "\n",
    "import math\n",
    "\n",
    "import numpy as np\n",
    "import scipy as sp\n",
    "import scipy.stats\n",
    "import pandas as pd\n",
    "#print np.__version__\n",
    "#print np.__file__\n",
    "\n",
    "import matplotlib as mpl\n",
    "import matplotlib.pyplot as plt\n",
    "import matplotlib.patches as ptch\n",
    "from matplotlib import rcParams\n",
    "#print mpl.__version__\n",
    "#print mpl.__file__\n",
    "\n",
    "import json\n",
    "from operator import itemgetter\n",
    "%matplotlib inline\n",
    "\n",
    "#print (sys.version)\n",
    "\n",
    "# specific to datafile\n",
    "import sqlite3\n"
   ]
  },
  {
   "cell_type": "markdown",
   "metadata": {},
   "source": [
    "## A1: Before Building Visualization\n",
    "\n",
    "Two questions that pop into my head before I begin ...\n",
    "\n",
    "First, what in the world is \"sqlite\"?\n",
    "\n",
    "Second, I guess I'd like to know more about the audience for this \"tool\" - other data scientist like myself, or the general public?\n"
   ]
  },
  {
   "cell_type": "markdown",
   "metadata": {},
   "source": [
    "## A2: Answering the above questions\n",
    "\n",
    "First, what in the world is \"sqlite\"?\n",
    "\n",
    "OK, quick Google search suggests that sqllite is some sort of light-weight SQL database.  Lot's of references to R, so maybe it's common in that world.  It looks like there's a python module which can read this file, so I'll probably choose to do that, since that's where my familiarity is.  I also noticed that there's a node.js library too, so that might be useful to do a REAL dashboard, but that's also more work than I can likely put in over the next week.  Sorry!\n",
    "\n",
    "Second, I guess I'd like to know more about the audience for this \"tool.\"\n",
    "\n",
    "If it's an internal thing, used by other data scientist, perhaps to integrate into other analyses and visualizations then I'll probably use python and make this a little more \"command liney\" (if that makes sense).  If the tool is targeting a more general, less technical audience (and I had more time... like a lot more time), then I'd probably go straight to node.js/javascript and do some fancier dashboard type of thing.  Unfortunately, given the time constraints, I'll stick to what I know I can do in a handful of hours ...\n",
    "\n",
    "Anyway, onto the data ... and the visualization."
   ]
  },
  {
   "cell_type": "markdown",
   "metadata": {},
   "source": [
    "## Define Racers class\n",
    "1. Constructor reads data from (hard-coded) data file/sql and puts it into a pandas dataframe\n",
    "2. Data is automatically massaged to handle some small degree of funkiness\n",
    "   (but options exist to simply remove the funky data, rather than fix it)\n",
    "3. Some entities are extracted or transformed for future usage\n"
   ]
  },
  {
   "cell_type": "code",
   "execution_count": 6,
   "metadata": {
    "collapsed": false
   },
   "outputs": [],
   "source": [
    "#\n",
    "# define racers class\n",
    "#\n",
    "\n",
    "class Racers:\n",
    "    \n",
    "    #\n",
    "    # main constructor\n",
    "    #\n",
    "    def __init__(self, bad_data=None):\n",
    "        \n",
    "        # hard-code this for now ...\n",
    "        self.datafile = \"./racers.sqlite\"\n",
    "        db = sqlite3.connect(':memory:')\n",
    "        db = sqlite3.connect(self.datafile)\n",
    "        print \"reading file: ./racers.sqlite (hard-coded)\"\n",
    "        \n",
    "        #\n",
    "        # basically, i'm copying the data from sqlite to a pandas dataframe\n",
    "        # (note: you can find the table name from something like\n",
    "        #        print db.execute(\"SELECT name FROM sqlite_master\n",
    "        #                          WHERE type='table';\").fetchall())\n",
    "        #\n",
    "        self.df = pd.read_sql_query(\"SELECT * FROM top_racers\", db)\n",
    "        \n",
    "        # data massaging ..\n",
    "        if bad_data is None or bad_data == \"fix\":\n",
    "            # if we want to keep it, then we need to massage it\n",
    "            self.fix_data()\n",
    "        elif bad_data == \"purge\":\n",
    "            # it's only ~1% so ditching isn't all that bad ...\n",
    "            self.purge_bad_data()\n",
    "                    \n",
    "        # compute some useful quantities\n",
    "        self.extract_info()\n",
    "        self.extract_city_state()\n",
    "        self.get_wave()\n",
    "        self.racetime_in_sec()\n",
    "        \n",
    "\n",
    "    #\n",
    "    # handling \"funky\" data\n",
    "    #\n",
    "    # * defined as rows of data with inaccurate info, or parsed strangely,\n",
    "    #   or whatever.  Most of this was found as a result of some trial and\n",
    "    #   error while getting familiar the data.\n",
    "    #\n",
    "    # * you can run the method \"check_data\" which encapsulates all\n",
    "    #   our code used to filter/massage/clean things, and this will also\n",
    "    #   give us an idea of how we did afterward ...\n",
    "    #   \n",
    "    def purge_bad_data(self):\n",
    " \n",
    "        # 1. Row 5019 (place 5020) didn't have a final race time:\n",
    "        #         id  finalPlace   hometown division   time\n",
    "        # 5019  MM257    5020       \"Windsor  CO\"  M47 CO\"\n",
    "        self.df.drop(5019, inplace=True)\n",
    "        #\n",
    "        # inspect like this:\n",
    "        # for dd in thisdb.execute(\"SELECT * FROM top_racers WHERE finalplace > 5015\n",
    "        #                               AND finalplace < 5025;\").fetchall():\n",
    "        #     print dd\n",
    "        \n",
    "        # 2. No comma in hometown field\n",
    "        self.df.drop(self.df.loc[self.df['hometown'].str.count(',') < 1].index, inplace=True)\n",
    "        \n",
    "        # 3. Too many commas in hometown field\n",
    "        self.df.drop(self.df.loc[self.df['hometown'].str.count(',') > 1].index, inplace=True)\n",
    "        \n",
    "        # 4. Some time's have a weird HTML table tag in there ...\n",
    "        self.df.drop(self.df.loc[self.df['time'].str.contains('td')].index, inplace=True)\n",
    "        \n",
    "        # 5. Strange old people ... remove them because I don't believe it ..\n",
    "        self.df.drop(self.df.loc[self.df['division'] == \"M99\"], inplace=True)\n",
    "        self.df.drop(self.df.loc[self.df['division'] == \"M116\"], inplace=True)\n",
    "\n",
    "        \n",
    "    def fix_data(self):\n",
    "        # 1. Row 5019 (place 5020) didn't have a final race time:\n",
    "        #         id  finalPlace   hometown division   time\n",
    "        # 5019  MM257    5020       \"Windsor  CO\"  M47 CO\"\n",
    "        self.df.set_value(5019,'hometown', \"Windsor, CO\")\n",
    "        self.df.set_value(5019,'division', \"M47\")\n",
    "        self.df.set_value(5019,'time', \"52:48.20\")\n",
    "        \n",
    "        # 4. fix the weird HTML things\n",
    "        self.df['time'] = self.df['time'].apply(lambda tt: tt.replace('</td','.00'))\n",
    "\n",
    "    def extract_info(self):\n",
    "        # add some fields we'll use later ..\n",
    "        self.df['sex'] = self.df['division'].apply(lambda div: div[0])\n",
    "        self.df['age'] = self.df['division'].apply(lambda div: int(div[1:]))\n",
    "        self.df['age_dec'] = self.df['age'].apply(lambda aa: 10 * (int(aa)/10))\n",
    "\n",
    "    def extract_city_state(self):\n",
    "        # now, grab city/state - need a few special cases\n",
    "        def parse_city(ht):\n",
    "            temp = ht.split(',')\n",
    "            if len(temp) > 1 and len(temp[0]) > 0:\n",
    "                # make all lowercase ...\n",
    "                return temp[0].strip().lower()\n",
    "            else:\n",
    "                # allows us to filter by null\n",
    "                return None\n",
    "        self.df['city'] = self.df['hometown'].apply(parse_city)\n",
    "        \n",
    "        def parse_state(ht):\n",
    "            temp = ht.split(',')\n",
    "            if len(temp) == 2:\n",
    "                return temp[1].strip().lower()\n",
    "            if len(temp) > 2:\n",
    "                return temp[len(temp)-1].strip().lower()\n",
    "            else:\n",
    "                return None\n",
    "        self.df['state'] = self.df['hometown'].apply(parse_state)\n",
    "        \n",
    "        self.df['city-state'] = self.df['city'] + \"-\" + self.df['state']\n",
    "        \n",
    "    def get_wave(self):\n",
    "        def parse_id(iid):\n",
    "            wave = \"\"\n",
    "            for ss in iid:\n",
    "                if not ss.isdigit():\n",
    "                    wave += ss\n",
    "            return wave\n",
    "        self.df['wave'] = self.df['id'].apply(parse_id)\n",
    "        \n",
    "    # hmmm, some times have this funky html shit in there ....\n",
    "    def racetime_in_sec(self):\n",
    "        def convert_to_sec(tt):\n",
    "            temp = tt.split(':')\n",
    "            if len(temp) == 2:\n",
    "                return float(temp[0])*60.0 + float(temp[1])\n",
    "            else:\n",
    "                return None\n",
    "        self.df['time_sec'] = self.df['time'].apply(convert_to_sec)\n",
    "        \n",
    "    def info(self):\n",
    "        print \"datafile=\", self.datafile\n",
    "        print \"shape=\", self.df.shape\n",
    "        print self.df.head(n=3)\n",
    "        print self.df.tail(n=3)\n",
    "        \n",
    "    def check_data(self):\n",
    "        print \"====================\"\n",
    "        print \" \"\n",
    "        print \"a bunch of checks on the data, mainly used to filter/clean/massage:\"\n",
    "        print \"1. i guess you only have two options: M or F\"\n",
    "        print self.df.loc[(self.df['sex'] != 'M') & (self.df['sex'] != 'F')]\n",
    "        print \"2. funky hometowns (too many commas - orig = 3)\"\n",
    "        print self.df.loc[self.df['hometown'].str.count(',') > 1]\n",
    "        print \"3. funky hometowns (the count with no commas - orig = 37)\"\n",
    "        print self.df.loc[self.df['hometown'].str.count(',') < 1].shape\n",
    "        print \"-----\"\n",
    "        print \"N_(city is null)\", self.df.loc[self.df['city'].isnull()].shape\n",
    "        print \"N_(state is null)\", self.df.loc[self.df['state'].isnull()].shape\n",
    "        print \"N_(time_sec is null)\", self.df.loc[self.df['time_sec'].isnull()].shape\n",
    "        print \"N_(time_sec with td)\", self.df.loc[self.df['time'].str.contains('td')].shape\n",
    "        print \"N_(times_sec is good)\", self.df.loc[(self.df['time_sec'] > 0.0) &\n",
    "                                                   (self.df['time_sec'] < 1000000.0)].shape\n",
    "        print \"N_(old peeeps)\", self.df.loc[self.df['age'] > 80].shape\n",
    "        \n",
    "    def raw_data(self, copy=False):\n",
    "        if copy:\n",
    "            return self.df.copy()\n",
    "        else:\n",
    "            return self.df"
   ]
  },
  {
   "cell_type": "markdown",
   "metadata": {},
   "source": [
    "B1. Funky Data:\n",
    "===========\n",
    "\n",
    "From a little bit of inspection and processing we found some data funkiness (yes, that's a technical term).\n",
    "\n",
    "1. Some 30+ race times have a weird HTML table tag in it.\n",
    "2. One row has strange values which seem like maybe bad parsing of hometown fields when double-quotes are input.\n",
    "3. Some users are stated as being > 90 years old, and one person is supposedly 116!  All these people seem suspicious.  First off, all of the 90+ year olds are exactly 99, and many of these old people have fairly fast race times.  The 116 year old, for instance, came in about half-way through the pack.  I'll leave these in, in general, since there's only 8 of these people, but they can be filtered if wanted. (Note that all 70 year olds look legit)\n",
    "\n",
    "## (To the race organizers)\n",
    "I bet items 1 and 2 are a result of errors in their processing of the input data and are therefore fixable ..."
   ]
  },
  {
   "cell_type": "markdown",
   "metadata": {},
   "source": [
    "## B2. Transformation\n",
    "\n",
    "I added the following transformations into the above class:\n",
    "\n",
    "1. Derived the age and sex from the division information.\n",
    "\n",
    "2. Parsed out the city and state from the hometown.\n",
    "\n",
    "3. Transformed the time into seconds for easier use later on.\n",
    "\n",
    "4. Parsed the wave and racer number from the id."
   ]
  },
  {
   "cell_type": "code",
   "execution_count": 7,
   "metadata": {
    "collapsed": false
   },
   "outputs": [
    {
     "name": "stdout",
     "output_type": "stream",
     "text": [
      "reading file: ./racers.sqlite (hard-coded)\n",
      "datafile= ./racers.sqlite\n",
      "shape= (10000, 13)\n",
      "     id  finalPlace          hometown division      time sex  age  age_dec  \\\n",
      "0  A615           1        Denver, CO      M28  30:33.94   M   28       20   \n",
      "1  A527           2      Lakewood, CO      M24  31:07.32   M   24       20   \n",
      "2  A449           3  Fort Collins, CO      M31  31:08.63   M   31       30   \n",
      "\n",
      "           city state       city-state wave  time_sec  \n",
      "0        denver    co        denver-co    A   1833.94  \n",
      "1      lakewood    co      lakewood-co    A   1867.32  \n",
      "2  fort collins    co  fort collins-co    A   1868.63  \n",
      "         id  finalPlace              hometown division      time sex  age  \\\n",
      "9997  MK629        9999  Colorado Springs, CO      M17  59:09.36   M   17   \n",
      "9998  GK645       10000          Longmont, CO      F27  59:09.39   F   27   \n",
      "9999  EF345       10001          Longmont, CO      M71  59:09.45   M   71   \n",
      "\n",
      "      age_dec              city state           city-state wave  time_sec  \n",
      "9997       10  colorado springs    co  colorado springs-co   MK   3549.36  \n",
      "9998       20          longmont    co          longmont-co   GK   3549.39  \n",
      "9999       70          longmont    co          longmont-co   EF   3549.45  \n",
      "====================\n",
      " \n",
      "a bunch of checks on the data, mainly used to filter/clean/massage:\n",
      "1. i guess you only have two options: M or F\n",
      "Empty DataFrame\n",
      "Columns: [id, finalPlace, hometown, division, time, sex, age, age_dec, city, state, city-state, wave, time_sec]\n",
      "Index: []\n",
      "2. funky hometowns (too many commas - orig = 3)\n",
      "         id  finalPlace     hometown division      time sex  age  age_dec  \\\n",
      "2909   D132        2910       ,,, CO      M46  49:05.14   M   46       40   \n",
      "5946  ME028        5947        ,, CO      M42  54:04.79   M   42       40   \n",
      "8595   H286        8597  Aurora,, CO      M61  57:35.65   M   61       60   \n",
      "\n",
      "        city state city-state wave  time_sec  \n",
      "2909    None    co        NaN    D   2945.14  \n",
      "5946    None    co        NaN   ME   3244.79  \n",
      "8595  aurora    co  aurora-co    H   3455.65  \n",
      "3. funky hometowns (the count with no commas - orig = 37)\n",
      "(37, 13)\n",
      "-----\n",
      "N_(city is null) (39, 13)\n",
      "N_(state is null) (37, 13)\n",
      "N_(time_sec is null) (0, 13)\n",
      "N_(time_sec with td) (0, 13)\n",
      "N_(times_sec is good) (10000, 13)\n",
      "N_(old peeeps) (8, 13)\n"
     ]
    }
   ],
   "source": [
    "\n",
    "#\n",
    "# Now, armed with this class, the data can be quickly accessed\n",
    "#\n",
    "\n",
    "racers = Racers()\n",
    "#racers = Racers(bad_data=\"purge\")\n",
    "\n",
    "# some general info can be spit out\n",
    "racers.info()\n",
    "\n",
    "# and we can even do some checks on the data, mainly\n",
    "# relevant for the funky data mentioned above\n",
    "racers.check_data()\n",
    "\n",
    "# also have access to the actual data frame, but\n",
    "# note ... this is a reference ... not a copy.\n",
    "dd = racers.raw_data()"
   ]
  },
  {
   "cell_type": "markdown",
   "metadata": {},
   "source": [
    "# Race Demographics\n",
    "\n",
    "Armed with our Racers class and easy access to the dataframe, answering simple demographic questions become fairly trivial (although with varying degrees of \"beauty\")."
   ]
  },
  {
   "cell_type": "code",
   "execution_count": 8,
   "metadata": {
    "collapsed": false
   },
   "outputs": [
    {
     "name": "stdout",
     "output_type": "stream",
     "text": [
      "age_dec  sex\n",
      "0        F        16\n",
      "         M        42\n",
      "10       F       404\n",
      "         M      1048\n",
      "20       F       897\n",
      "         M      1416\n",
      "30       F       982\n",
      "         M      1707\n",
      "40       F       586\n",
      "         M      1281\n",
      "50       F       309\n",
      "         M       883\n",
      "60       F        66\n",
      "         M       321\n",
      "70       F         2\n",
      "         M        32\n",
      "90       M         7\n",
      "110      M         1\n",
      "dtype: int64\n"
     ]
    }
   ],
   "source": [
    "#\n",
    "# Males and Females in age bands\n",
    "#\n",
    "\n",
    "print dd.groupby(['age_dec','sex']).size()\n"
   ]
  },
  {
   "cell_type": "code",
   "execution_count": 9,
   "metadata": {
    "collapsed": false
   },
   "outputs": [
    {
     "name": "stdout",
     "output_type": "stream",
     "text": [
      "age_dec\n",
      "0      16\n",
      "10    404\n",
      "20    897\n",
      "30    982\n",
      "40    586\n",
      "50    309\n",
      "60     66\n",
      "70      2\n",
      "dtype: int64\n"
     ]
    }
   ],
   "source": [
    "#\n",
    "#  Or, just the females so it's easier to see ...\n",
    "#\n",
    "\n",
    "print dd.loc[dd['sex'] == \"F\"].groupby('age_dec').size()"
   ]
  },
  {
   "cell_type": "markdown",
   "metadata": {},
   "source": [
    "## C1, C2: Specific demographic questions\n",
    "\n",
    "1. Most women athletes were in the 30-39 year old age band, 982 to be specific\n",
    "\n",
    "2. There were 2313 athletes in the 20-29 year old age band (897 women, and 1416 men)"
   ]
  },
  {
   "cell_type": "markdown",
   "metadata": {},
   "source": [
    "# Visualization\n",
    "\n",
    "While the above items are incredibly useful, sometimes a picture really does tell you 1000 words.  To make this visualization tool more generic, such that other data mungers could use it, or even expand it with their own components I'll generating a plotting class."
   ]
  },
  {
   "cell_type": "code",
   "execution_count": 10,
   "metadata": {
    "collapsed": false
   },
   "outputs": [],
   "source": [
    "class PlotRacerInfo(Racers):\n",
    "    \n",
    "    def __init__(self, bad_data=None):\n",
    "        Racers.__init__(self, bad_data=bad_data)\n",
    "        #self.info()\n",
    "        \n",
    "    def info(self):\n",
    "        print \"Racers info:\"\n",
    "        Racers.info(self)\n",
    "        \n",
    "    def init_plot(self):\n",
    "        fig = plt.figure(figsize=(12.,8.))\n",
    "        fig.position = (0,0,1,1)\n",
    "        self.ax = fig.add_axes([0.05, 0.05, 0.95, 0.95], frameon=True)\n",
    "        \n",
    "    def set_limits(self, xmax, xmin, ymax, ymin):\n",
    "        self.plot_xmax = xmax\n",
    "        self.plot_xmin = xmin\n",
    "        self.plot_ymax = ymax\n",
    "        self.plot_ymin = ymin\n",
    "        \n",
    "    def finish_plot(self):\n",
    "        self.ax.set_xlim((self.plot_xmin, self.plot_xmax))\n",
    "        self.ax.set_ylim((self.plot_ymin, self.plot_ymax))\n",
    "\n",
    "        self.ax.tick_params('both', length=0, width=2, which='major')\n",
    "        self.ax.tick_params('both', length=0, width=2, which='minor')\n",
    "\n",
    "        plt.show()\n",
    "        \n",
    "    def do_demographics(self):\n",
    "        self.init_plot()\n",
    "\n",
    "        # females\n",
    "        ts = self.df.loc[dd['sex'] == \"F\"].groupby('age_dec').size()\n",
    "        plt.bar(ts.index.values, ts.values, align='edge', width=4, alpha=0.8, color='b', lw=1.0)\n",
    "        ymax = 1.1*max(ts.values)\n",
    "        xmax = 1.05*max(ts.index.values)\n",
    "        \n",
    "        #males\n",
    "        ts = self.df.loc[dd['sex'] == \"M\"].groupby('age_dec').size()\n",
    "        plt.bar(4+ts.index.values, ts.values, align='edge', width=4, alpha=0.8, color='r', lw=1.0)\n",
    "        if (1.1*max(ts.values) > ymax):\n",
    "            ymax = 1.1*max(ts.values)\n",
    "        if (1.05*max(ts.index.values) > xmax):\n",
    "            xmax = 1.05*max(ts.index.values)\n",
    "        \n",
    "        self.ax.annotate('Men',xy=(80,1400),xycoords='data', color='r', fontsize=20)\n",
    "        self.ax.annotate('Women',xy=(80,1300),xycoords='data', color='b', fontsize=20)\n",
    "        \n",
    "        self.ax.set_ylabel(\"Racers\", size=30)\n",
    "        self.ax.set_xlabel(\"Age (decade bins)\", size=30)\n",
    "        \n",
    "        self.set_limits(xmax, 0, ymax, 0)\n",
    "        self.finish_plot()\n",
    "        \n",
    "    def do_wave_avgtime(self):\n",
    "        self.init_plot()\n",
    "\n",
    "        # get average per wave\n",
    "        waveavg = dd.groupby('wave')['time_sec'].mean()\n",
    "\n",
    "        plt.plot(range(waveavg.size), waveavg.values, '-b', marker='x', lw=1.0)\n",
    "        \n",
    "        xmax = waveavg.size\n",
    "        ymax = 1.05*max(waveavg.values)\n",
    "                \n",
    "        self.ax.set_ylabel(\"Average Time (seconds)\", size=30)\n",
    "        self.ax.set_xlabel(\"Wave\", size=30)\n",
    "        \n",
    "        xticks = []\n",
    "        xticklabels = []\n",
    "        for ii in range(waveavg.size):\n",
    "            if len(waveavg.index.values[ii]) == 1:\n",
    "                xticks.append(ii)\n",
    "                xticklabels.append(waveavg.index.values[ii])\n",
    "            \n",
    "        self.ax.set_xticklabels(xticklabels, rotation=30, fontsize=15)\n",
    "        self.ax.set_xticks(xticks)\n",
    "        \n",
    "        self.set_limits(xmax, 0, ymax, 2000)\n",
    "        self.finish_plot()\n",
    "        \n",
    "    def do_age_avgfinish(self):\n",
    "        self.init_plot()\n",
    "\n",
    "        # women\n",
    "        ts = self.df.loc[dd['sex'] == \"F\"].groupby('age_dec')['finalPlace'].mean()\n",
    "        plt.bar(ts.index.values, ts.values, align='edge', width=4, alpha=0.4, color='b', lw=1.0)\n",
    "        ymax = 1.1*max(ts.values)\n",
    "        xmax = 1.05*max(ts.index.values)\n",
    "\n",
    "        #males\n",
    "        ts = self.df.loc[dd['sex'] == \"M\"].groupby('age_dec')['finalPlace'].mean()\n",
    "        plt.bar(4+ts.index.values, ts.values, align='edge', width=4, alpha=0.4, color='r', lw=1.0)\n",
    "        if (1.1*max(ts.values) > ymax):\n",
    "            ymax = 1.1*max(ts.values)\n",
    "        if (1.05*max(ts.index.values) > xmax):\n",
    "            xmax = 1.05*max(ts.index.values)\n",
    "                \n",
    "        self.ax.annotate('Men',xy=(10,6400),xycoords='data', color='r', fontsize=20)\n",
    "        self.ax.annotate('Women',xy=(10,7000),xycoords='data', color='b', fontsize=20)\n",
    "        \n",
    "        self.ax.set_ylabel(\"Average Finish Place (out of 10000)\", size=30)\n",
    "        self.ax.set_xlabel(\"Age (decade bins)\", size=30)\n",
    "        \n",
    "        #self.set_limits(xmax, 0, ymax, 2000)\n",
    "        self.set_limits(80, 0, ymax, 0)\n",
    "        self.finish_plot()"
   ]
  },
  {
   "cell_type": "code",
   "execution_count": 11,
   "metadata": {
    "collapsed": false
   },
   "outputs": [
    {
     "name": "stdout",
     "output_type": "stream",
     "text": [
      "reading file: ./racers.sqlite (hard-coded)\n"
     ]
    }
   ],
   "source": [
    "#\n",
    "# Initialize class which reads in data, does the transformation, and gets the plots ready\n",
    "#\n",
    "\n",
    "racerplots = PlotRacerInfo()\n",
    "\n",
    "# get info .. but for the moment, it's the same as above\n",
    "#racerplots.info()"
   ]
  },
  {
   "cell_type": "code",
   "execution_count": 12,
   "metadata": {
    "collapsed": false
   },
   "outputs": [
    {
     "data": {
      "image/png": "[encoded data removed]",
      "text/plain": [
       "<matplotlib.figure.Figure at 0x115cf0890>"
      ]
     },
     "metadata": {},
     "output_type": "display_data"
    }
   ],
   "source": [
    "#\n",
    "# Now, plotting the demographics becomes a simple call to a method\n",
    "#\n",
    "\n",
    "racerplots.do_demographics()\n"
   ]
  },
  {
   "cell_type": "markdown",
   "metadata": {},
   "source": [
    "# Average Race Times per Wave"
   ]
  },
  {
   "cell_type": "code",
   "execution_count": 13,
   "metadata": {
    "collapsed": false
   },
   "outputs": [
    {
     "name": "stdout",
     "output_type": "stream",
     "text": [
      "wave\n",
      "A     2353.465743\n",
      "AA    2547.557703\n",
      "AB    2663.235389\n",
      "B     2776.460581\n",
      "BA    2824.083799\n",
      "BB    2884.190383\n",
      "C     2919.261121\n",
      "CA    2957.495156\n",
      "CB    3010.923293\n",
      "CC    3052.677417\n",
      "Name: time_sec, dtype: float64\n"
     ]
    }
   ],
   "source": [
    "\n",
    "print dd.groupby('wave')['time_sec'].mean().head(n=10)\n"
   ]
  },
  {
   "cell_type": "markdown",
   "metadata": {},
   "source": [
    "## C3: Specific time question\n",
    "\n",
    "We can see from the above that the racers in the \"C\" wave had an average race time of 2919 seconds, or 48 minutes and 39 seconds.\n",
    "\n",
    "Or, we can use our printing class to look at the average time in every wave ..."
   ]
  },
  {
   "cell_type": "code",
   "execution_count": 14,
   "metadata": {
    "collapsed": false
   },
   "outputs": [
    {
     "data": {
      "image/png": "[encoded data removed]",
      "text/plain": [
       "<matplotlib.figure.Figure at 0x116205590>"
      ]
     },
     "metadata": {},
     "output_type": "display_data"
    }
   ],
   "source": [
    "racerplots.do_wave_avgtime()"
   ]
  },
  {
   "cell_type": "markdown",
   "metadata": {},
   "source": [
    "# Racer Origins"
   ]
  },
  {
   "cell_type": "code",
   "execution_count": 15,
   "metadata": {
    "collapsed": false
   },
   "outputs": [
    {
     "name": "stdout",
     "output_type": "stream",
     "text": [
      "total number of runners in group A= 491\n",
      "total number of cities represented by runner in grou A= 121\n",
      "top 10 cities of these A group runners\n",
      "city-state\n",
      "boulder-co             85\n",
      "denver-co              52\n",
      "fort collins-co        27\n",
      "colorado springs-co    19\n",
      "arvada-co              15\n",
      "broomfield-co          15\n",
      "louisville-co          14\n",
      "littleton-co           13\n",
      "longmont-co            12\n",
      "aurora-co              12\n",
      "dtype: int64\n"
     ]
    }
   ],
   "source": [
    "#\n",
    "# grab wave A and group by city ..\n",
    "#\n",
    "\n",
    "agrp = dd.loc[dd['wave'] == \"A\"]\n",
    "\n",
    "print \"total number of runners in group A=\", agrp.shape[0]\n",
    "\n",
    "# just the city - \n",
    "#agrp = agrp.groupby('city').size()\n",
    "# now, use city-state combo\n",
    "agrpbycity = agrp.groupby('city-state').size()\n",
    "\n",
    "print \"total number of cities represented by runner in grou A=\", agrpbycity.shape[0]\n",
    "\n",
    "print \"top 10 cities of these A group runners\"\n",
    "agrpbycity.sort(ascending=False, inplace=True)\n",
    "print agrpbycity.head(n=10)\n"
   ]
  },
  {
   "cell_type": "markdown",
   "metadata": {},
   "source": [
    "## C4: Specific origin question\n",
    "\n",
    "We see 491 athletes in group A, coming from 121 cities. Boulder, CO, the hometown of the race, was the most frequently represented city, with 85 runners, Followed by Denver, and Fort Collins."
   ]
  },
  {
   "cell_type": "markdown",
   "metadata": {},
   "source": [
    "# Fastest times ..."
   ]
  },
  {
   "cell_type": "code",
   "execution_count": 16,
   "metadata": {
    "collapsed": false
   },
   "outputs": [
    {
     "name": "stdout",
     "output_type": "stream",
     "text": [
      "top 10 times:\n",
      "     id  finalPlace              hometown division      time sex  age  \\\n",
      "0  A615           1            Denver, CO      M28  30:33.94   M   28   \n",
      "1  A527           2          Lakewood, CO      M24  31:07.32   M   24   \n",
      "2  A449           3      Fort Collins, CO      M31  31:08.63   M   31   \n",
      "3  A288           4          Longmont, CO      M18  31:09.15   M   18   \n",
      "4  A510           5  Colorado Springs, CO      M27  31:40.41   M   27   \n",
      "5  A475           6           Boulder, CO      M29  32:05.42   M   29   \n",
      "6  A456           7  Colorado Springs, CO      M25  32:10.88   M   25   \n",
      "7  A619           8            Denver, CO      M32  32:14.52   M   32   \n",
      "8  A538           9         Littleton, CO      M18  32:25.30   M   18   \n",
      "\n",
      "   age_dec              city state           city-state wave  time_sec  \n",
      "0       20            denver    co            denver-co    A   1833.94  \n",
      "1       20          lakewood    co          lakewood-co    A   1867.32  \n",
      "2       30      fort collins    co      fort collins-co    A   1868.63  \n",
      "3       10          longmont    co          longmont-co    A   1869.15  \n",
      "4       20  colorado springs    co  colorado springs-co    A   1900.41  \n",
      "5       20           boulder    co           boulder-co    A   1925.42  \n",
      "6       20  colorado springs    co  colorado springs-co    A   1930.88  \n",
      "7       30            denver    co            denver-co    A   1934.52  \n",
      "8       10         littleton    co         littleton-co    A   1945.30  \n"
     ]
    }
   ],
   "source": [
    "#\n",
    "# Note, because the sql db ordered the records by finalPlace, we don't need to\n",
    "# do any sorting here, since the index matches the finalPlace...\n",
    "#\n",
    "\n",
    "print \"top 10 times:\"\n",
    "print dd.loc[dd['finalPlace'] < 10]"
   ]
  },
  {
   "cell_type": "code",
   "execution_count": 17,
   "metadata": {
    "collapsed": false
   },
   "outputs": [
    {
     "name": "stdout",
     "output_type": "stream",
     "text": [
      "top 10 times (females only):\n",
      "105\n",
      "       id  finalPlace              hometown division      time sex  age  \\\n",
      "104  A089         105           Boulder, CO      F34  35:43.87   F   34   \n",
      "114  A369         115  Colorado Springs, CO      F31  35:56.72   F   31   \n",
      "125  A009         126           Boulder, CO      F27  36:10.72   F   27   \n",
      "129  A117         130           Boulder, CO      F30  36:12.88   F   30   \n",
      "159  A268         160        Centennial, CO      F17  36:42.51   F   17   \n",
      "181  A592         182           boulder, CO      F28  37:06.46   F   28   \n",
      "203  A483         204         Edgewater, CO      F31  37:16.80   F   31   \n",
      "207  A349         208           Boulder, CO      F28  37:18.15   F   28   \n",
      "221  A035         222        Broomfield, CO      F28  37:30.77   F   28   \n",
      "261  A595         262            Denver, CO      F33  38:03.05   F   33   \n",
      "\n",
      "     age_dec              city state           city-state wave  time_sec  \n",
      "104       30           boulder    co           boulder-co    A   2143.87  \n",
      "114       30  colorado springs    co  colorado springs-co    A   2156.72  \n",
      "125       20           boulder    co           boulder-co    A   2170.72  \n",
      "129       30           boulder    co           boulder-co    A   2172.88  \n",
      "159       10        centennial    co        centennial-co    A   2202.51  \n",
      "181       20           boulder    co           boulder-co    A   2226.46  \n",
      "203       30         edgewater    co         edgewater-co    A   2236.80  \n",
      "207       20           boulder    co           boulder-co    A   2238.15  \n",
      "221       20        broomfield    co        broomfield-co    A   2250.77  \n",
      "261       30            denver    co            denver-co    A   2283.05  \n"
     ]
    }
   ],
   "source": [
    "print \"top 10 times (females only):\"\n",
    "print min(dd.loc[dd['sex'] ==  \"F\"]['finalPlace'])\n",
    "print dd.loc[dd['sex'] ==  \"F\"].head(n=10)"
   ]
  },
  {
   "cell_type": "markdown",
   "metadata": {},
   "source": [
    "## C5: Specific time question\n",
    "\n",
    "Males dominated the fastest times, taking the top 104 spots.  The fastest time was 30:33, by a 28 year old male from Denver, CO.\n",
    "\n",
    "The fastest female time was 35:43.\n"
   ]
  },
  {
   "cell_type": "markdown",
   "metadata": {},
   "source": [
    "# Finish Place"
   ]
  },
  {
   "cell_type": "code",
   "execution_count": 18,
   "metadata": {
    "collapsed": false
   },
   "outputs": [
    {
     "name": "stdout",
     "output_type": "stream",
     "text": [
      "total number of well-aged males: 1281\n",
      "the fastest 5:\n",
      "      id  finalPlace            hometown division      time sex  age  age_dec  \\\n",
      "24  A040          25         Boulder, CO      M46  33:36.87   M   46       40   \n",
      "76  A153          77  Grand Junction, CO      M45  35:19.74   M   45       40   \n",
      "77  A335          78   COLORADO SPGS, CO      M40  35:20.87   M   40       40   \n",
      "82  A543          83         Boulder, CO      M49  35:29.07   M   49       40   \n",
      "88  A092          89      Louisville, CO      M42  35:34.36   M   42       40   \n",
      "\n",
      "              city state         city-state wave  time_sec  \n",
      "24         boulder    co         boulder-co    A   2016.87  \n",
      "76  grand junction    co  grand junction-co    A   2119.74  \n",
      "77   colorado spgs    co   colorado spgs-co    A   2120.87  \n",
      "82         boulder    co         boulder-co    A   2129.07  \n",
      "88      louisville    co      louisville-co    A   2134.36  \n",
      "the slowest 5:\n",
      "         id  finalPlace      hometown division      time sex  age  age_dec  \\\n",
      "9963  FC078        9965   Boulder, CO      M46  59:06.58   M   46       40   \n",
      "9966  EF277        9968  Superior, CO      M43  59:07.22   M   43       40   \n",
      "9968   B007        9970  Longmont, CO      M47  59:07.24   M   47       40   \n",
      "9983  FA321        9985   Boulder, CO      M42  59:08.33   M   42       40   \n",
      "9989  ED283        9991  Cheyenne, WY      M43  59:08.74   M   43       40   \n",
      "\n",
      "          city state   city-state wave  time_sec  \n",
      "9963   boulder    co   boulder-co   FC   3546.58  \n",
      "9966  superior    co  superior-co   EF   3547.22  \n",
      "9968  longmont    co  longmont-co    B   3547.24  \n",
      "9983   boulder    co   boulder-co   FA   3548.33  \n",
      "9989  cheyenne    wy  cheyenne-wy   ED   3548.74  \n"
     ]
    }
   ],
   "source": [
    "#\n",
    "# OK, where did the old folks finish ...?\n",
    "#\n",
    "\n",
    "oldfolks = dd.loc[(dd['sex'] == \"M\") & (dd['age_dec'] == 40)]\n",
    "\n",
    "print \"total number of well-aged males:\", oldfolks.shape[0]\n",
    "print \"the fastest 5:\"\n",
    "print oldfolks.head(n=5)\n",
    "print \"the slowest 5:\"\n",
    "print oldfolks.tail(n=5)\n"
   ]
  },
  {
   "cell_type": "markdown",
   "metadata": {},
   "source": [
    "## C6: specific final place question\n",
    "\n",
    "There's a huge spread in the final placing of wise old men, i.e., those in their 40's.  Actually, it's quite amazing ... a 46 year old was the 25th fastest person in the race, and a 43 year old was the 11th slowest.  So, basically this group was spread all the way across the finish.\n",
    "\n",
    "And just cause it's fun, we can explicitly look at the average finish place for each age group here: we see explicitly that men are faster than women, and you people (at least older than 10) are faster than old people.  Which I guess are the sad facts of life ...."
   ]
  },
  {
   "cell_type": "code",
   "execution_count": 19,
   "metadata": {
    "collapsed": false
   },
   "outputs": [
    {
     "data": {
      "image/png": "[encoded data removed]",
      "text/plain": [
       "<matplotlib.figure.Figure at 0x116168bd0>"
      ]
     },
     "metadata": {},
     "output_type": "display_data"
    }
   ],
   "source": [
    "racerplots.do_age_avgfinish()"
   ]
  },
  {
   "cell_type": "markdown",
   "metadata": {},
   "source": [
    "# Post-mortem\n",
    "\n",
    "OK, it's been a little bit of a random project, since I started the reading in and data processing last weekend, but then had some difficulty finding many blocks of time throughout the week to work on this.  In any event, it was a fun project to work on."
   ]
  },
  {
   "cell_type": "markdown",
   "metadata": {},
   "source": [
    "## D1: Decisions\n",
    "\n",
    "My decisions were more practical than anything else.  I knew I could employ a python framework to get these questions answered.  Plus, in terms of a \"tool\" it's not bad for a certain class of users, i.e., those people who are technically advanced enough to do command-line data processing.  And this is a decent platform for collaborative work since the class structure is easily extended and built upon, which I think is useful."
   ]
  },
  {
   "cell_type": "markdown",
   "metadata": {},
   "source": [
    "##D2: Evaluation\n",
    "Are these visualizations effective?  It's hard for me to say \"no\" since I just built them... but in general I think they convey the messages that we're trying to get across.  Maybe it's not that interactive, so that's a definite drawback, and maybe you need to be semi-saavy with technology which is also a drawback, but I know I could effectively use this tool to answer lots of additional questions as they popped up.  And I think/hope that other could too."
   ]
  },
  {
   "cell_type": "markdown",
   "metadata": {},
   "source": [
    "##D3: Importance\n",
    "The important things to me are:\n",
    " \n",
    "1. Is the information correct?  We've installed a set of checks and balances (still a little bit manual in implementation) which have tried to ensure this is the case.\n",
    "\n",
    "2. Did we effectively convey the information?  I think we did.  As I just said, it might not be the cleanest and most user-friendly tool, but the information is definitely there.  And some of the figures are actually quite nice a visually displaying the cold, hard facts of the ability of men and women of all ages to race.\n",
    "\n",
    "2. Can this be easily extended to answer additional questions, i.e., is this a useful \"tool\"?  Again, I think so.  Of course, the answer depends on the knowledge set of the audience/user so maybe that's a significant caveat."
   ]
  },
  {
   "cell_type": "code",
   "execution_count": null,
   "metadata": {
    "collapsed": true
   },
   "outputs": [],
   "source": []
  }
 ],
 "metadata": {
  "kernelspec": {
   "display_name": "Python 2",
   "language": "python",
   "name": "python2"
  },
  "language_info": {
   "codemirror_mode": {
    "name": "ipython",
    "version": 2
   },
   "file_extension": ".py",
   "mimetype": "text/x-python",
   "name": "python",
   "nbconvert_exporter": "python",
   "pygments_lexer": "ipython2",
   "version": "2.7.5"
  }
 },
 "nbformat": 4,
 "nbformat_minor": 0
}
